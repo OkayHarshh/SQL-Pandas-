{
 "cells": [
  {
   "cell_type": "code",
   "execution_count": 18,
   "id": "b2bebd9b",
   "metadata": {},
   "outputs": [
    {
     "data": {
      "text/html": [
       "<div>\n",
       "<style scoped>\n",
       "    .dataframe tbody tr th:only-of-type {\n",
       "        vertical-align: middle;\n",
       "    }\n",
       "\n",
       "    .dataframe tbody tr th {\n",
       "        vertical-align: top;\n",
       "    }\n",
       "\n",
       "    .dataframe thead th {\n",
       "        text-align: right;\n",
       "    }\n",
       "</style>\n",
       "<table border=\"1\" class=\"dataframe\">\n",
       "  <thead>\n",
       "    <tr style=\"text-align: right;\">\n",
       "      <th></th>\n",
       "      <th>id</th>\n",
       "      <th>Season</th>\n",
       "      <th>city</th>\n",
       "      <th>date</th>\n",
       "      <th>team1</th>\n",
       "      <th>team2</th>\n",
       "      <th>toss_winner</th>\n",
       "      <th>toss_decision</th>\n",
       "      <th>result</th>\n",
       "      <th>dl_applied</th>\n",
       "      <th>winner</th>\n",
       "      <th>win_by_runs</th>\n",
       "      <th>win_by_wickets</th>\n",
       "      <th>player_of_match</th>\n",
       "      <th>venue</th>\n",
       "      <th>umpire1</th>\n",
       "      <th>umpire2</th>\n",
       "      <th>umpire3</th>\n",
       "    </tr>\n",
       "  </thead>\n",
       "  <tbody>\n",
       "    <tr>\n",
       "      <th>0</th>\n",
       "      <td>1</td>\n",
       "      <td>IPL-2017</td>\n",
       "      <td>Hyderabad</td>\n",
       "      <td>05-04-2017</td>\n",
       "      <td>Sunrisers Hyderabad</td>\n",
       "      <td>Royal Challengers Bangalore</td>\n",
       "      <td>Royal Challengers Bangalore</td>\n",
       "      <td>field</td>\n",
       "      <td>normal</td>\n",
       "      <td>0</td>\n",
       "      <td>Sunrisers Hyderabad</td>\n",
       "      <td>35</td>\n",
       "      <td>0</td>\n",
       "      <td>Yuvraj Singh</td>\n",
       "      <td>Rajiv Gandhi International Stadium, Uppal</td>\n",
       "      <td>AY Dandekar</td>\n",
       "      <td>NJ Llong</td>\n",
       "      <td>NaN</td>\n",
       "    </tr>\n",
       "  </tbody>\n",
       "</table>\n",
       "</div>"
      ],
      "text/plain": [
       "   id    Season       city        date                team1                        team2                  toss_winner toss_decision  result  dl_applied               winner  win_by_runs  win_by_wickets player_of_match                                      venue      umpire1   umpire2 umpire3\n",
       "0   1  IPL-2017  Hyderabad  05-04-2017  Sunrisers Hyderabad  Royal Challengers Bangalore  Royal Challengers Bangalore         field  normal           0  Sunrisers Hyderabad           35               0    Yuvraj Singh  Rajiv Gandhi International Stadium, Uppal  AY Dandekar  NJ Llong     NaN"
      ]
     },
     "execution_count": 18,
     "metadata": {},
     "output_type": "execute_result"
    }
   ],
   "source": [
    "import pandas as pd\n",
    "\n",
    "# ✅ Load CSV (using forward slashes so no escape sequence issues)\n",
    "\n",
    "# Load datasets\n",
    "matches = pd.read_csv(\"IPL Dataset/matches.csv\")\n",
    "deliveries = pd.read_csv(\"IPL Dataset/deliveries.csv\")\n",
    "\n",
    "# ✅ Make sure all columns show in one line (no wrapping with \\)\n",
    "pd.set_option(\"display.max_columns\", 600)\n",
    "pd.set_option(\"display.width\", 600)\n",
    "\n",
    "matches.head(1)  # Display the first few rows of the DataFrame\n"
   ]
  },
  {
   "cell_type": "markdown",
   "id": "9078b5d1",
   "metadata": {},
   "source": [
    "Player won MOM without winning team\n"
   ]
  },
  {
   "cell_type": "code",
   "execution_count": 21,
   "id": "b401ce34",
   "metadata": {},
   "outputs": [
    {
     "name": "stdout",
     "output_type": "stream",
     "text": [
      "       Season player_of_match                     team               winner\n",
      "598  IPL-2016       CH Morris         Delhi Daredevils        Gujarat Lions\n",
      "615  IPL-2016         A Zampa  Rising Pune Supergiants  Sunrisers Hyderabad\n",
      "621  IPL-2016         HM Amla          Kings XI Punjab  Sunrisers Hyderabad\n",
      "660  IPL-2018      AS Rajpoot          Kings XI Punjab  Sunrisers Hyderabad\n",
      "744  IPL-2019             NaN                      NaN                  NaN\n"
     ]
    }
   ],
   "source": [
    "\n",
    "# Step 1: Take match_id, winner, player_of_match\n",
    "mom_df = matches[['id','Season','winner','player_of_match']].rename(columns={'Season':'Season'})\n",
    "\n",
    "# Step 2: From deliveries, create a mapping of player -> team (per match)\n",
    "# For batsmen\n",
    "batsman_team = deliveries.groupby(['match_id','batsman'])['batting_team'].first().reset_index()\n",
    "batsman_team.rename(columns={'batsman':'player','batting_team':'team'}, inplace=True)\n",
    "\n",
    "# For bowlers\n",
    "bowler_team = deliveries.groupby(['match_id','bowler'])['bowling_team'].first().reset_index()\n",
    "bowler_team.rename(columns={'bowler':'player','bowling_team':'team'}, inplace=True)\n",
    "\n",
    "# Combine both (some PoM are bowlers, some batsmen)\n",
    "player_team_map = pd.concat([batsman_team, bowler_team]).drop_duplicates()\n",
    "\n",
    "# Step 3: Merge PoM info with their team\n",
    "mom_with_team = mom_df.merge(player_team_map, left_on=['id','player_of_match'], right_on=['match_id','player'], how='left')\n",
    "\n",
    "# Step 4: Filter where player's team != winner (MoM from losing side)\n",
    "losing_side_mom = mom_with_team[mom_with_team['team'] != mom_with_team['winner']]\n",
    "\n",
    "# Step 5: Show results with Season (capitalized)\n",
    "print(losing_side_mom[['Season','player_of_match','team','winner']].tail(5))\n"
   ]
  }
 ],
 "metadata": {
  "kernelspec": {
   "display_name": "Python 3",
   "language": "python",
   "name": "python3"
  },
  "language_info": {
   "codemirror_mode": {
    "name": "ipython",
    "version": 3
   },
   "file_extension": ".py",
   "mimetype": "text/x-python",
   "name": "python",
   "nbconvert_exporter": "python",
   "pygments_lexer": "ipython3",
   "version": "3.13.3"
  }
 },
 "nbformat": 4,
 "nbformat_minor": 5
}
