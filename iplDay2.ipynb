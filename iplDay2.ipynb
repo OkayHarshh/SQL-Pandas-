{
 "cells": [
  {
   "cell_type": "code",
   "execution_count": 5,
   "id": "b2bebd9b",
   "metadata": {},
   "outputs": [
    {
     "data": {
      "text/html": [
       "<div>\n",
       "<style scoped>\n",
       "    .dataframe tbody tr th:only-of-type {\n",
       "        vertical-align: middle;\n",
       "    }\n",
       "\n",
       "    .dataframe tbody tr th {\n",
       "        vertical-align: top;\n",
       "    }\n",
       "\n",
       "    .dataframe thead th {\n",
       "        text-align: right;\n",
       "    }\n",
       "</style>\n",
       "<table border=\"1\" class=\"dataframe\">\n",
       "  <thead>\n",
       "    <tr style=\"text-align: right;\">\n",
       "      <th></th>\n",
       "      <th>id</th>\n",
       "      <th>Season</th>\n",
       "      <th>city</th>\n",
       "      <th>date</th>\n",
       "      <th>team1</th>\n",
       "      <th>team2</th>\n",
       "      <th>toss_winner</th>\n",
       "      <th>toss_decision</th>\n",
       "      <th>result</th>\n",
       "      <th>dl_applied</th>\n",
       "      <th>winner</th>\n",
       "      <th>win_by_runs</th>\n",
       "      <th>win_by_wickets</th>\n",
       "      <th>player_of_match</th>\n",
       "      <th>venue</th>\n",
       "      <th>umpire1</th>\n",
       "      <th>umpire2</th>\n",
       "      <th>umpire3</th>\n",
       "    </tr>\n",
       "  </thead>\n",
       "  <tbody>\n",
       "    <tr>\n",
       "      <th>0</th>\n",
       "      <td>1</td>\n",
       "      <td>IPL-2017</td>\n",
       "      <td>Hyderabad</td>\n",
       "      <td>05-04-2017</td>\n",
       "      <td>Sunrisers Hyderabad</td>\n",
       "      <td>Royal Challengers Bangalore</td>\n",
       "      <td>Royal Challengers Bangalore</td>\n",
       "      <td>field</td>\n",
       "      <td>normal</td>\n",
       "      <td>0</td>\n",
       "      <td>Sunrisers Hyderabad</td>\n",
       "      <td>35</td>\n",
       "      <td>0</td>\n",
       "      <td>Yuvraj Singh</td>\n",
       "      <td>Rajiv Gandhi International Stadium, Uppal</td>\n",
       "      <td>AY Dandekar</td>\n",
       "      <td>NJ Llong</td>\n",
       "      <td>NaN</td>\n",
       "    </tr>\n",
       "  </tbody>\n",
       "</table>\n",
       "</div>"
      ],
      "text/plain": [
       "   id    Season       city        date                team1                        team2                  toss_winner toss_decision  result  dl_applied               winner  win_by_runs  win_by_wickets player_of_match                                      venue      umpire1   umpire2 umpire3\n",
       "0   1  IPL-2017  Hyderabad  05-04-2017  Sunrisers Hyderabad  Royal Challengers Bangalore  Royal Challengers Bangalore         field  normal           0  Sunrisers Hyderabad           35               0    Yuvraj Singh  Rajiv Gandhi International Stadium, Uppal  AY Dandekar  NJ Llong     NaN"
      ]
     },
     "execution_count": 5,
     "metadata": {},
     "output_type": "execute_result"
    }
   ],
   "source": [
    "import pandas as pd\n",
    "\n",
    "# ✅ Load CSV (using forward slashes so no escape sequence issues)\n",
    "\n",
    "# Load datasets\n",
    "matches = pd.read_csv(\"IPL Dataset/matches.csv\")\n",
    "deliveries = pd.read_csv(\"IPL Dataset/deliveries.csv\")\n",
    "\n",
    "# ✅ Make sure all columns show in one line (no wrapping with \\)\n",
    "pd.set_option(\"display.max_columns\", 600)\n",
    "pd.set_option(\"display.width\", 600)\n",
    "\n",
    "matches.head(1)  # Display the first few rows of the DataFrame\n"
   ]
  },
  {
   "cell_type": "markdown",
   "id": "9078b5d1",
   "metadata": {},
   "source": [
    "Player won MOM without winning team\n"
   ]
  },
  {
   "cell_type": "code",
   "execution_count": null,
   "id": "b401ce34",
   "metadata": {},
   "outputs": [],
   "source": [
    "\n",
    "# Step 1: Take match_id, winner, player_of_match\n",
    "mom_df = matches[['id','Season','winner','player_of_match']].rename(columns={'Season':'Season'})\n",
    "\n",
    "# Step 2: From deliveries, create a mapping of player -> team (per match)\n",
    "# For batsmen\n",
    "batsman_team = deliveries.groupby(['match_id','batsman'])['batting_team'].first().reset_index()\n",
    "batsman_team.rename(columns={'batsman':'player','batting_team':'team'}, inplace=True)\n",
    "\n",
    "# For bowlers\n",
    "bowler_team = deliveries.groupby(['match_id','bowler'])['bowling_team'].first().reset_index()\n",
    "bowler_team.rename(columns={'bowler':'player','bowling_team':'team'}, inplace=True)\n",
    "\n",
    "# Combine both (some PoM are bowlers, some batsmen)\n",
    "player_team_map = pd.concat([batsman_team, bowler_team]).drop_duplicates()\n",
    "\n",
    "# Step 3: Merge PoM info with their team\n",
    "mom_with_team = mom_df.merge(player_team_map, left_on=['id','player_of_match'], right_on=['match_id','player'], how='left')\n",
    "\n",
    "# Step 4: Filter where player's team != winner (MoM from losing side)\n",
    "losing_side_mom = mom_with_team[mom_with_team['team'] != mom_with_team['winner']]\n",
    "\n",
    "# Step 5: Show results with Season (capitalized)\n",
    "print(losing_side_mom[['Season','player_of_match','team','winner']].tail(5))\n"
   ]
  },
  {
   "cell_type": "code",
   "execution_count": null,
   "id": "bf10aefa",
   "metadata": {},
   "outputs": [
    {
     "data": {
      "text/plain": [
       "101"
      ]
     },
     "execution_count": 23,
     "metadata": {},
     "output_type": "execute_result"
    }
   ],
   "source": [
    "matches.query(\"city == 'Mumbai'\")"
   ]
  },
  {
   "cell_type": "code",
   "execution_count": null,
   "id": "12438092",
   "metadata": {},
   "outputs": [],
   "source": [
    "toss =matches['toss_winner'].value_counts()\n"
   ]
  },
  {
   "cell_type": "code",
   "execution_count": 31,
   "id": "2d3af3eb",
   "metadata": {},
   "outputs": [
    {
     "data": {
      "text/html": [
       "<div>\n",
       "<style scoped>\n",
       "    .dataframe tbody tr th:only-of-type {\n",
       "        vertical-align: middle;\n",
       "    }\n",
       "\n",
       "    .dataframe tbody tr th {\n",
       "        vertical-align: top;\n",
       "    }\n",
       "\n",
       "    .dataframe thead th {\n",
       "        text-align: right;\n",
       "    }\n",
       "</style>\n",
       "<table border=\"1\" class=\"dataframe\">\n",
       "  <thead>\n",
       "    <tr style=\"text-align: right;\">\n",
       "      <th></th>\n",
       "      <th>Season</th>\n",
       "      <th>toss_winner</th>\n",
       "      <th>winner</th>\n",
       "    </tr>\n",
       "  </thead>\n",
       "  <tbody>\n",
       "    <tr>\n",
       "      <th>1</th>\n",
       "      <td>IPL-2017</td>\n",
       "      <td>Rising Pune Supergiant</td>\n",
       "      <td>Rising Pune Supergiant</td>\n",
       "    </tr>\n",
       "    <tr>\n",
       "      <th>2</th>\n",
       "      <td>IPL-2017</td>\n",
       "      <td>Kolkata Knight Riders</td>\n",
       "      <td>Kolkata Knight Riders</td>\n",
       "    </tr>\n",
       "    <tr>\n",
       "      <th>3</th>\n",
       "      <td>IPL-2017</td>\n",
       "      <td>Kings XI Punjab</td>\n",
       "      <td>Kings XI Punjab</td>\n",
       "    </tr>\n",
       "    <tr>\n",
       "      <th>4</th>\n",
       "      <td>IPL-2017</td>\n",
       "      <td>Royal Challengers Bangalore</td>\n",
       "      <td>Royal Challengers Bangalore</td>\n",
       "    </tr>\n",
       "    <tr>\n",
       "      <th>5</th>\n",
       "      <td>IPL-2017</td>\n",
       "      <td>Sunrisers Hyderabad</td>\n",
       "      <td>Sunrisers Hyderabad</td>\n",
       "    </tr>\n",
       "  </tbody>\n",
       "</table>\n",
       "</div>"
      ],
      "text/plain": [
       "     Season                  toss_winner                       winner\n",
       "1  IPL-2017       Rising Pune Supergiant       Rising Pune Supergiant\n",
       "2  IPL-2017        Kolkata Knight Riders        Kolkata Knight Riders\n",
       "3  IPL-2017              Kings XI Punjab              Kings XI Punjab\n",
       "4  IPL-2017  Royal Challengers Bangalore  Royal Challengers Bangalore\n",
       "5  IPL-2017          Sunrisers Hyderabad          Sunrisers Hyderabad"
      ]
     },
     "metadata": {},
     "output_type": "display_data"
    }
   ],
   "source": [
    "toss = matches.query(\"toss_winner == winner\")\n",
    "display(toss[[\"Season\", \"toss_winner\", \"winner\"]].head(5))\n"
   ]
  },
  {
   "cell_type": "code",
   "execution_count": null,
   "id": "e63168e6",
   "metadata": {},
   "outputs": [],
   "source": [
    "matches.query(\"result == 'tie'\")"
   ]
  },
  {
   "cell_type": "code",
   "execution_count": null,
   "id": "1c35cc68",
   "metadata": {},
   "outputs": [],
   "source": [
    "matches.query(\"((team1 == 'Mumbai Indians') or (team2 == 'Mumbai Indians')) and (winner != 'Mumbai Indians')\")\n"
   ]
  },
  {
   "cell_type": "code",
   "execution_count": 15,
   "id": "840366e4",
   "metadata": {},
   "outputs": [
    {
     "data": {
      "text/html": [
       "<div>\n",
       "<style scoped>\n",
       "    .dataframe tbody tr th:only-of-type {\n",
       "        vertical-align: middle;\n",
       "    }\n",
       "\n",
       "    .dataframe tbody tr th {\n",
       "        vertical-align: top;\n",
       "    }\n",
       "\n",
       "    .dataframe thead th {\n",
       "        text-align: right;\n",
       "    }\n",
       "</style>\n",
       "<table border=\"1\" class=\"dataframe\">\n",
       "  <thead>\n",
       "    <tr style=\"text-align: right;\">\n",
       "      <th></th>\n",
       "      <th>id</th>\n",
       "      <th>Season</th>\n",
       "      <th>city</th>\n",
       "      <th>date</th>\n",
       "      <th>team1</th>\n",
       "      <th>team2</th>\n",
       "      <th>toss_winner</th>\n",
       "      <th>toss_decision</th>\n",
       "      <th>result</th>\n",
       "      <th>dl_applied</th>\n",
       "      <th>winner</th>\n",
       "      <th>win_by_runs</th>\n",
       "      <th>win_by_wickets</th>\n",
       "      <th>player_of_match</th>\n",
       "      <th>venue</th>\n",
       "      <th>umpire1</th>\n",
       "      <th>umpire2</th>\n",
       "      <th>umpire3</th>\n",
       "    </tr>\n",
       "  </thead>\n",
       "  <tbody>\n",
       "    <tr>\n",
       "      <th>82</th>\n",
       "      <td>83</td>\n",
       "      <td>IPL-2008</td>\n",
       "      <td>Jaipur</td>\n",
       "      <td>04-05-2008</td>\n",
       "      <td>Chennai Super Kings</td>\n",
       "      <td>Rajasthan Royals</td>\n",
       "      <td>Chennai Super Kings</td>\n",
       "      <td>bat</td>\n",
       "      <td>normal</td>\n",
       "      <td>0</td>\n",
       "      <td>Rajasthan Royals</td>\n",
       "      <td>0</td>\n",
       "      <td>8</td>\n",
       "      <td>Sohail Tanvir</td>\n",
       "      <td>Sawai Mansingh Stadium</td>\n",
       "      <td>Asad Rauf</td>\n",
       "      <td>AV Jayaprakash</td>\n",
       "      <td>NaN</td>\n",
       "    </tr>\n",
       "    <tr>\n",
       "      <th>109</th>\n",
       "      <td>110</td>\n",
       "      <td>IPL-2008</td>\n",
       "      <td>Chennai</td>\n",
       "      <td>24-05-2008</td>\n",
       "      <td>Rajasthan Royals</td>\n",
       "      <td>Chennai Super Kings</td>\n",
       "      <td>Rajasthan Royals</td>\n",
       "      <td>bat</td>\n",
       "      <td>normal</td>\n",
       "      <td>0</td>\n",
       "      <td>Rajasthan Royals</td>\n",
       "      <td>10</td>\n",
       "      <td>0</td>\n",
       "      <td>JA Morkel</td>\n",
       "      <td>MA Chidambaram Stadium, Chepauk</td>\n",
       "      <td>DJ Harper</td>\n",
       "      <td>SL Shastri</td>\n",
       "      <td>NaN</td>\n",
       "    </tr>\n",
       "    <tr>\n",
       "      <th>116</th>\n",
       "      <td>117</td>\n",
       "      <td>IPL-2008</td>\n",
       "      <td>Mumbai</td>\n",
       "      <td>01-06-2008</td>\n",
       "      <td>Chennai Super Kings</td>\n",
       "      <td>Rajasthan Royals</td>\n",
       "      <td>Rajasthan Royals</td>\n",
       "      <td>field</td>\n",
       "      <td>normal</td>\n",
       "      <td>0</td>\n",
       "      <td>Rajasthan Royals</td>\n",
       "      <td>0</td>\n",
       "      <td>3</td>\n",
       "      <td>YK Pathan</td>\n",
       "      <td>Dr DY Patil Sports Academy</td>\n",
       "      <td>BF Bowden</td>\n",
       "      <td>RE Koertzen</td>\n",
       "      <td>NaN</td>\n",
       "    </tr>\n",
       "  </tbody>\n",
       "</table>\n",
       "</div>"
      ],
      "text/plain": [
       "      id    Season     city        date                team1                team2          toss_winner toss_decision  result  dl_applied            winner  win_by_runs  win_by_wickets player_of_match                            venue    umpire1         umpire2 umpire3\n",
       "82    83  IPL-2008   Jaipur  04-05-2008  Chennai Super Kings     Rajasthan Royals  Chennai Super Kings           bat  normal           0  Rajasthan Royals            0               8   Sohail Tanvir           Sawai Mansingh Stadium  Asad Rauf  AV Jayaprakash     NaN\n",
       "109  110  IPL-2008  Chennai  24-05-2008     Rajasthan Royals  Chennai Super Kings     Rajasthan Royals           bat  normal           0  Rajasthan Royals           10               0       JA Morkel  MA Chidambaram Stadium, Chepauk  DJ Harper      SL Shastri     NaN\n",
       "116  117  IPL-2008   Mumbai  01-06-2008  Chennai Super Kings     Rajasthan Royals     Rajasthan Royals         field  normal           0  Rajasthan Royals            0               3       YK Pathan       Dr DY Patil Sports Academy  BF Bowden     RE Koertzen     NaN"
      ]
     },
     "execution_count": 15,
     "metadata": {},
     "output_type": "execute_result"
    }
   ],
   "source": [
    "matches.query(\"winner == 'Rajasthan Royals' and Season == 'IPL-2008' and (team1 == 'Chennai Super Kings' or team2 == 'Chennai Super Kings')\")\n",
    "\n"
   ]
  },
  {
   "cell_type": "code",
   "execution_count": null,
   "id": "d54c6fe9",
   "metadata": {},
   "outputs": [],
   "source": [
    "# Correct way\n",
    "# Correct way\n",
    "csk_matches = matches.query(\"((`team1` == 'Chennai Super Kings') or (`team2` == 'Chennai Super Kings')) and winner != 'Chennai Super Kings' and Season == 'IPL-2008'\")\n",
    "print(csk_matches.shape[0])\n",
    "\n"
   ]
  },
  {
   "cell_type": "markdown",
   "id": "bf7d2afe",
   "metadata": {},
   "source": [
    "Find the percentage of times the toss winner chose to bat"
   ]
  },
  {
   "cell_type": "code",
   "execution_count": 28,
   "id": "5c2dc83c",
   "metadata": {},
   "outputs": [
    {
     "name": "stdout",
     "output_type": "stream",
     "text": [
      "Percentage: 38.76%\n"
     ]
    }
   ],
   "source": [
    "bat_count = matches.query(\"toss_decision == 'bat'\").shape[0]\n",
    "total_tosses = matches.shape[0]\n",
    "print(f\"Percentage: {(bat_count / total_tosses) * 100:.2f}%\")\n"
   ]
  }
 ],
 "metadata": {
  "kernelspec": {
   "display_name": "Python 3",
   "language": "python",
   "name": "python3"
  },
  "language_info": {
   "codemirror_mode": {
    "name": "ipython",
    "version": 3
   },
   "file_extension": ".py",
   "mimetype": "text/x-python",
   "name": "python",
   "nbconvert_exporter": "python",
   "pygments_lexer": "ipython3",
   "version": "3.13.3"
  }
 },
 "nbformat": 4,
 "nbformat_minor": 5
}
