{
 "cells": [
  {
   "cell_type": "markdown",
   "id": "37958f51",
   "metadata": {},
   "source": [
    "View basic order items with product info"
   ]
  },
  {
   "cell_type": "code",
   "execution_count": null,
   "id": "98d58edc",
   "metadata": {},
   "outputs": [],
   "source": [
    "SELECT \n",
    "    oi.item_id,\n",
    "    oi.ord_id,\n",
    "    oi.p_id,\n",
    "    oi.quantity,\n",
    "    p.p_name,\n",
    "    p.price\n",
    "FROM order_items oi\n",
    "JOIN products p ON oi.p_id = p.p_id;\n"
   ]
  },
  {
   "cell_type": "markdown",
   "id": "e255c172",
   "metadata": {},
   "source": [
    "Add order date from orders table"
   ]
  },
  {
   "cell_type": "code",
   "execution_count": null,
   "id": "e7f8d0f5",
   "metadata": {},
   "outputs": [],
   "source": [
    "SELECT \n",
    "    oi.item_id,\n",
    "    o.ord_date,\n",
    "    oi.quantity,\n",
    "    p.p_name,\n",
    "    p.price\n",
    "FROM order_items oi\n",
    "JOIN products p ON oi.p_id = p.p_id\n",
    "JOIN orders o ON o.ord_id = oi.ord_id;\n"
   ]
  },
  {
   "cell_type": "markdown",
   "id": "34af62fd",
   "metadata": {},
   "source": [
    "Add customer name from customers table"
   ]
  },
  {
   "cell_type": "code",
   "execution_count": null,
   "id": "cbc6ca96",
   "metadata": {},
   "outputs": [],
   "source": [
    "SELECT \n",
    "    c.cust_name,\n",
    "    o.ord_date,\n",
    "    p.p_name,\n",
    "    p.price,\n",
    "    oi.quantity\n",
    "FROM order_items oi\n",
    "JOIN products p ON oi.p_id = p.p_id\n",
    "JOIN orders o ON o.ord_id = oi.ord_id\n",
    "JOIN customers c ON o.cust_id = c.cust_id;\n"
   ]
  },
  {
   "cell_type": "markdown",
   "id": "68210708",
   "metadata": {},
   "source": [
    "Add total price (price × quantity)"
   ]
  },
  {
   "cell_type": "code",
   "execution_count": null,
   "id": "afff7833",
   "metadata": {},
   "outputs": [],
   "source": [
    "SELECT \n",
    "    c.cust_name,\n",
    "    p.p_name,\n",
    "    p.price,\n",
    "    oi.quantity,\n",
    "    o.ord_date,\n",
    "    (oi.quantity * p.price) AS total_price\n",
    "FROM order_items oi\n",
    "JOIN products p ON oi.p_id = p.p_id\n",
    "JOIN orders o ON o.ord_id = oi.ord_id\n",
    "JOIN customers c ON o.cust_id = c.cust_id;\n"
   ]
  }
 ],
 "metadata": {
  "language_info": {
   "name": "python"
  }
 },
 "nbformat": 4,
 "nbformat_minor": 5
}
