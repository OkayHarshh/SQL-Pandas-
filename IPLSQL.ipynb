{
 "cells": [
  {
   "cell_type": "markdown",
   "id": "cf2a8ad9",
   "metadata": {},
   "source": [
    "##SQL PRACTICE WITH IPL DATABSE"
   ]
  },
  {
   "cell_type": "markdown",
   "id": "300e287e",
   "metadata": {},
   "source": [
    "List all seasons (years) of IPL"
   ]
  },
  {
   "cell_type": "code",
   "execution_count": null,
   "id": "a80ac7b7",
   "metadata": {},
   "outputs": [],
   "source": [
    "SELECT DISTINCT season\n",
    "FROM matches\n",
    "ORDER BY season;\n"
   ]
  },
  {
   "cell_type": "markdown",
   "id": "368f6bc6",
   "metadata": {},
   "source": [
    "Show all matches played in 2016 with winner and venue"
   ]
  },
  {
   "cell_type": "code",
   "execution_count": null,
   "id": "eb177fc4",
   "metadata": {},
   "outputs": [],
   "source": [
    "SELECT id, city, date, team1, team2, winner, venue\n",
    "FROM matches\n",
    "WHERE season = 2016;\n"
   ]
  },
  {
   "cell_type": "markdown",
   "id": "6b356f8f",
   "metadata": {},
   "source": [
    "Total matches played in each city"
   ]
  },
  {
   "cell_type": "code",
   "execution_count": null,
   "id": "9879e0b1",
   "metadata": {},
   "outputs": [],
   "source": [
    "SELECT city, COUNT(*) AS total_matches\n",
    "FROM matches\n",
    "GROUP BY city\n",
    "ORDER BY total_matches DESC;\n"
   ]
  },
  {
   "cell_type": "markdown",
   "id": "19778893",
   "metadata": {},
   "source": [
    "Top 5 teams with most match wins"
   ]
  },
  {
   "cell_type": "code",
   "execution_count": null,
   "id": "68d2ad0a",
   "metadata": {},
   "outputs": [],
   "source": [
    "SELECT winner, COUNT(*) AS wins\n",
    "FROM matches\n",
    "GROUP BY winner\n",
    "ORDER BY wins DESC\n",
    "LIMIT 5;\n"
   ]
  },
  {
   "cell_type": "markdown",
   "id": "23f44954",
   "metadata": {},
   "source": [
    "Find matches where the toss winner also won the match"
   ]
  },
  {
   "cell_type": "code",
   "execution_count": null,
   "id": "1c3e79f7",
   "metadata": {},
   "outputs": [],
   "source": [
    "SELECT *\n",
    "FROM matches\n",
    "WHERE toss_winner = winner;\n"
   ]
  },
  {
   "cell_type": "markdown",
   "id": "3d9898de",
   "metadata": {},
   "source": [
    "Who has bowled the most balls in IPL?"
   ]
  },
  {
   "cell_type": "code",
   "execution_count": null,
   "id": "20030708",
   "metadata": {},
   "outputs": [],
   "source": [
    "SELECT bowler, COUNT(*) AS balls_bowled\n",
    "FROM deliveries\n",
    "GROUP BY bowler\n",
    "ORDER BY balls_bowled DESC\n",
    "LIMIT 5;\n"
   ]
  },
  {
   "cell_type": "markdown",
   "id": "b96565ac",
   "metadata": {},
   "source": [
    "Who are the top 5 run scorers?"
   ]
  },
  {
   "cell_type": "code",
   "execution_count": null,
   "id": "04ec26d3",
   "metadata": {},
   "outputs": [],
   "source": [
    "SELECT batsman, SUM(batsman_runs) AS total_runs\n",
    "FROM deliveries\n",
    "GROUP BY batsman\n",
    "ORDER BY total_runs DESC\n",
    "LIMIT 5;\n"
   ]
  },
  {
   "cell_type": "markdown",
   "id": "57530f82",
   "metadata": {},
   "source": [
    "How many sixes has each player hit?"
   ]
  },
  {
   "cell_type": "code",
   "execution_count": null,
   "id": "1b39258a",
   "metadata": {},
   "outputs": [],
   "source": [
    "SELECT batsman, COUNT(*) AS sixes\n",
    "FROM deliveries\n",
    "WHERE batsman_runs = 6\n",
    "GROUP BY batsman\n",
    "ORDER BY sixes DESC\n",
    "LIMIT 10;\n"
   ]
  },
  {
   "cell_type": "markdown",
   "id": "2ede22c0",
   "metadata": {},
   "source": [
    "Top 5 strike rates (min 200 balls faced)"
   ]
  },
  {
   "cell_type": "code",
   "execution_count": null,
   "id": "f4cf7746",
   "metadata": {},
   "outputs": [],
   "source": [
    "SELECT batsman,\n",
    "       SUM(batsman_runs) AS runs,\n",
    "       COUNT(*) AS balls_faced,\n",
    "       ROUND(SUM(batsman_runs) * 100.0 / COUNT(*), 2) AS strike_rate\n",
    "FROM deliveries\n",
    "GROUP BY batsman\n",
    "HAVING COUNT(*) >= 200\n",
    "ORDER BY strike_rate DESC\n",
    "LIMIT 5;\n"
   ]
  },
  {
   "cell_type": "markdown",
   "id": "02d203ae",
   "metadata": {},
   "source": [
    "Combine matches and deliveries to find total runs in each season"
   ]
  },
  {
   "cell_type": "code",
   "execution_count": null,
   "id": "f2fe7e2c",
   "metadata": {},
   "outputs": [],
   "source": [
    "SELECT m.season, SUM(d.total_runs) AS total_season_runs\n",
    "FROM matches m\n",
    "JOIN deliveries d ON m.id = d.match_id\n",
    "GROUP BY m.season\n",
    "ORDER BY m.season;\n"
   ]
  }
 ],
 "metadata": {
  "language_info": {
   "name": "python"
  }
 },
 "nbformat": 4,
 "nbformat_minor": 5
}
