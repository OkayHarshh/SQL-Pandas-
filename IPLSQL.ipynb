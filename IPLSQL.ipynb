{
 "cells": [
  {
   "cell_type": "markdown",
   "id": "cf2a8ad9",
   "metadata": {},
   "source": [
    "##SQL PRACTICE WITH IPL DATABSE"
   ]
  },
  {
   "cell_type": "markdown",
   "id": "300e287e",
   "metadata": {},
   "source": [
    "List all seasons (years) of IPL"
   ]
  },
  {
   "cell_type": "code",
   "execution_count": null,
   "id": "a80ac7b7",
   "metadata": {},
   "outputs": [],
   "source": [
    "SELECT DISTINCT season\n",
    "FROM matches\n",
    "ORDER BY season;\n"
   ]
  },
  {
   "cell_type": "markdown",
   "id": "b01cbd89",
   "metadata": {},
   "source": []
  }
 ],
 "metadata": {
  "language_info": {
   "name": "python"
  }
 },
 "nbformat": 4,
 "nbformat_minor": 5
}
