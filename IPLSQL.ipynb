{
 "cells": [
  {
   "cell_type": "markdown",
   "id": "cf2a8ad9",
   "metadata": {},
   "source": [
    "##SQL PRACTICE WITH IPL DATABSE"
   ]
  },
  {
   "cell_type": "markdown",
   "id": "300e287e",
   "metadata": {},
   "source": [
    "List all seasons (years) of IPL"
   ]
  },
  {
   "cell_type": "code",
   "execution_count": null,
   "id": "a80ac7b7",
   "metadata": {},
   "outputs": [],
   "source": [
    "SELECT DISTINCT season\n",
    "FROM matches\n",
    "ORDER BY season;\n"
   ]
  },
  {
   "cell_type": "markdown",
   "id": "368f6bc6",
   "metadata": {},
   "source": [
    "Show all matches played in 2016 with winner and venue"
   ]
  },
  {
   "cell_type": "code",
   "execution_count": null,
   "id": "eb177fc4",
   "metadata": {},
   "outputs": [],
   "source": [
    "SELECT id, city, date, team1, team2, winner, venue\n",
    "FROM matches\n",
    "WHERE season = 2016;\n"
   ]
  },
  {
   "cell_type": "markdown",
   "id": "6b356f8f",
   "metadata": {},
   "source": [
    "Total matches played in each city"
   ]
  },
  {
   "cell_type": "code",
   "execution_count": null,
   "id": "9879e0b1",
   "metadata": {},
   "outputs": [],
   "source": [
    "SELECT city, COUNT(*) AS total_matches\n",
    "FROM matches\n",
    "GROUP BY city\n",
    "ORDER BY total_matches DESC;\n"
   ]
  },
  {
   "cell_type": "markdown",
   "id": "19778893",
   "metadata": {},
   "source": [
    "Top 5 teams with most match wins"
   ]
  },
  {
   "cell_type": "code",
   "execution_count": null,
   "id": "68d2ad0a",
   "metadata": {},
   "outputs": [],
   "source": [
    "SELECT winner, COUNT(*) AS wins\n",
    "FROM matches\n",
    "GROUP BY winner\n",
    "ORDER BY wins DESC\n",
    "LIMIT 5;\n"
   ]
  },
  {
   "cell_type": "markdown",
   "id": "23f44954",
   "metadata": {},
   "source": [
    "Find matches where the toss winner also won the match"
   ]
  },
  {
   "cell_type": "code",
   "execution_count": null,
   "id": "1c3e79f7",
   "metadata": {},
   "outputs": [],
   "source": [
    "SELECT *\n",
    "FROM matches\n",
    "WHERE toss_winner = winner;\n"
   ]
  }
 ],
 "metadata": {
  "language_info": {
   "name": "python"
  }
 },
 "nbformat": 4,
 "nbformat_minor": 5
}
